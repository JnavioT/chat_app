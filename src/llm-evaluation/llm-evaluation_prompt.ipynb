{
 "cells": [
  {
   "cell_type": "markdown",
   "metadata": {},
   "source": [
    "# LLM Evaluation - La Victoria Lab\n",
    "\n",
    "Bienvenido al **Large Language Models Evaluation** de La Victoria Lab. Esta notebook, nos muestra como evaluar el prompting de nuestro LLM y un sistema RAG, utilizando el framework promptflow. Utilizaremos el servicio Azure OpenAI."
   ]
  },
  {
   "cell_type": "markdown",
   "metadata": {},
   "source": [
    "## Índice\n",
    "\n",
    "1. [Configuración Inicial](#Configuración-Inicial)\n",
    "2. [Evaluación](#Evaluación)"
   ]
  },
  {
   "cell_type": "markdown",
   "metadata": {},
   "source": [
    "## Configuración Inicial\n",
    "\n",
    "Antes de comenzar, asegúrate de tener las librerías necesarias instaladas y configura las variables de entorno de manera segura utilizando un archivo `.env`."
   ]
  },
  {
   "cell_type": "markdown",
   "metadata": {},
   "source": [
    "### Instalación de Dependencias\n",
    "\n",
    "Ejecuta la siguiente celda para instalar las librerías requeridas:"
   ]
  },
  {
   "cell_type": "code",
   "execution_count": 1,
   "metadata": {},
   "outputs": [],
   "source": [
    "%%capture\n",
    "%pip install promptflow\n",
    "%pip install promptflow-evals\n",
    "%pip install promptflow-tools\n",
    "%pip install pandas"
   ]
  },
  {
   "cell_type": "markdown",
   "metadata": {},
   "source": [
    "### Configuración de Variables de Entorno"
   ]
  },
  {
   "cell_type": "code",
   "execution_count": 2,
   "metadata": {},
   "outputs": [],
   "source": [
    "import os\n",
    "\n",
    "os.environ[\"AZURE_OPENAI_ENDPOINT\"] = \"https://saltov2ibkindopenai.openai.azure.com/\"\n",
    "os.environ[\"AZURE_OPENAI_API_KEY\"] = \"f8b4dbde4448455f9564c6aae5ddb211\"\n",
    "os.environ[\"AZURE_OPENAI_API_VERSION\"] = \"2024-02-15-preview\"\n",
    "os.environ[\"AZURE_OPENAI_DEPLOYMENT_NAME\"] = \"gpt4omini\""
   ]
  },
  {
   "cell_type": "markdown",
   "metadata": {},
   "source": [
    "## Evaluación con Promptflow\n"
   ]
  },
  {
   "cell_type": "code",
   "execution_count": 3,
   "metadata": {},
   "outputs": [],
   "source": [
    "from promptflow.core import AzureOpenAIModelConfiguration\n",
    "from promptflow.evals.evaluators import GroundednessEvaluator, RelevanceEvaluator, CoherenceEvaluator, SimilarityEvaluator, F1ScoreEvaluator\n",
    "from promptflow.evals.evaluate import evaluate\n",
    "from azure.identity import DefaultAzureCredential\n",
    "import pandas as pd\n",
    "import json"
   ]
  },
  {
   "cell_type": "code",
   "execution_count": 4,
   "metadata": {},
   "outputs": [],
   "source": [
    "model_config = AzureOpenAIModelConfiguration(\n",
    "    azure_endpoint=os.getenv(\"AZURE_OPENAI_ENDPOINT\"),\n",
    "    api_key=os.getenv(\"AZURE_OPENAI_API_KEY\"),\n",
    "    azure_deployment=os.getenv(\"AZURE_OPENAI_DEPLOYMENT_NAME\"),\n",
    ")"
   ]
  },
  {
   "cell_type": "code",
   "execution_count": 6,
   "metadata": {},
   "outputs": [],
   "source": [
    "relevance_eval = RelevanceEvaluator(model_config)\n",
    "groundedness_eval = GroundednessEvaluator(model_config)\n",
    "coherence_eval = CoherenceEvaluator(model_config)\n",
    "similarity_eval = SimilarityEvaluator(model_config)\n",
    "#f1score_eval = F1ScoreEvaluator(model_config)"
   ]
  },
  {
   "cell_type": "code",
   "execution_count": 7,
   "metadata": {},
   "outputs": [],
   "source": [
    "question=\"quiero saber cuantos infiernos tiene la divina comedia?\"\n",
    "answer=\"En La Divina Comedia, el infierno está dividido en nueve círculos. Cada círculo representa un pecado diferente y un castigo correspondiente.\"\n",
    "context=\"infierno que   merece: tantas veces se ciñe con la cola,   cuantos grados él quiere que sea echada Siempre delante de él se encuentran muchos; van esperando   cada uno su juicio,   hablan y escuchan, después las arrojan «Oh tú que vienes al doloso albergue me dijo Minos en cuanto   me vio, dejando el acto de tan alto oficio ;       26. Vi a Pantas...\"\n",
    "ground_truth = \"En la obra los pajaritos vuelan, el cielo esta arriba. Muchas gracias por tu pregunta, tienes alguna consulta adicional?\""
   ]
  },
  {
   "cell_type": "code",
   "execution_count": 8,
   "metadata": {},
   "outputs": [
    {
     "name": "stdout",
     "output_type": "stream",
     "text": [
      "{'gpt_coherence': 5.0}\n"
     ]
    }
   ],
   "source": [
    "relevance_score = relevance_eval(\n",
    "    question=question,\n",
    "    answer=answer,\n",
    "    context=context\n",
    ")\n",
    "\n",
    "groundedness_score = groundedness_eval(\n",
    "    answer=answer,\n",
    "    context=context\n",
    "\n",
    ")\n",
    "\n",
    "coherence_score = coherence_eval(\n",
    "    question=question,\n",
    "    answer=answer,\n",
    ")\n",
    "\n",
    "# similarity_score = similarity_eval(\n",
    "#     question=question,\n",
    "#     answer= answer,\n",
    "#     ground_truth=ground_truth\n",
    "# )\n",
    "\n",
    "#print(relevance_score)\n",
    "#print(groundedness_score)\n",
    "print(coherence_score)\n",
    "#print(similarity_score)"
   ]
  },
  {
   "cell_type": "code",
   "execution_count": 10,
   "metadata": {},
   "outputs": [
    {
     "name": "stderr",
     "output_type": "stream",
     "text": [
      "[2024-10-30 17:03:21 -0500][promptflow._core.entry_meta_generator][WARNING] - Generate meta in current process and timeout won't take effect. Please handle timeout manually outside current process.\n",
      "[2024-10-30 17:03:22 -0500][promptflow._sdk._orchestrator.run_submitter][INFO] - Submitting run promptflow_evals_evaluators_coherence_coherence_asynccoherenceevaluator_col9o025_20241030_170321_813073, log path: C:\\Users\\b44082\\.promptflow\\.runs\\promptflow_evals_evaluators_coherence_coherence_asynccoherenceevaluator_col9o025_20241030_170321_813073\\logs.txt\n"
     ]
    },
    {
     "name": "stdout",
     "output_type": "stream",
     "text": [
      "Prompt flow service has started...\n",
      "You can view the traces in local from http://127.0.0.1:23333/v1.0/ui/traces/?#run=promptflow_evals_evaluators_coherence_coherence_asynccoherenceevaluator_col9o025_20241030_170321_813073\n"
     ]
    },
    {
     "name": "stderr",
     "output_type": "stream",
     "text": [
      "[2024-10-30 17:03:50 -0500][promptflow.evals.evaluate._utils][ERROR] - Unable to log traces as trace destination was not defined.\n"
     ]
    },
    {
     "name": "stdout",
     "output_type": "stream",
     "text": [
      "2024-10-30 17:03:22 -0500   20676 execution.bulk     INFO     Current thread is not main thread, skip signal handler registration in BatchEngine.\n",
      "2024-10-30 17:03:22 -0500   20676 execution          WARNING  Starting run without column mapping may lead to unexpected results. Please consult the following documentation for more information: https://aka.ms/pf/column-mapping\n",
      "2024-10-30 17:03:22 -0500   20676 execution.bulk     INFO     The timeout for the batch run is 3600 seconds.\n",
      "2024-10-30 17:03:22 -0500   20676 execution.bulk     INFO     Current system's available memory is 6221.01953125MB, memory consumption of current process is 205.046875MB, estimated available worker count is 6221.01953125/205.046875 = 30\n",
      "2024-10-30 17:03:22 -0500   20676 execution.bulk     INFO     Set process count to 4 by taking the minimum value among the factors of {'default_worker_count': 4, 'row_count': 15, 'estimated_worker_count_based_on_memory_usage': 30}.\n",
      "2024-10-30 17:03:32 -0500   20676 execution.bulk     INFO     Process name(SpawnProcess-7)-Process id(2680)-Line number(0) start execution.\n",
      "2024-10-30 17:03:32 -0500   20676 execution.bulk     INFO     Process name(SpawnProcess-6)-Process id(23180)-Line number(1) start execution.\n",
      "2024-10-30 17:03:32 -0500   20676 execution.bulk     INFO     Process name(SpawnProcess-8)-Process id(6324)-Line number(2) start execution.\n",
      "2024-10-30 17:03:32 -0500   20676 execution.bulk     INFO     Process name(SpawnProcess-9)-Process id(15232)-Line number(3) start execution.\n",
      "2024-10-30 17:03:34 -0500   20676 execution.bulk     INFO     Process name(SpawnProcess-6)-Process id(23180)-Line number(1) completed.\n",
      "2024-10-30 17:03:34 -0500   20676 execution.bulk     INFO     Process name(SpawnProcess-6)-Process id(23180)-Line number(4) start execution.\n",
      "2024-10-30 17:03:35 -0500   20676 execution.bulk     INFO     Finished 1 / 15 lines.\n",
      "2024-10-30 17:03:35 -0500   20676 execution.bulk     INFO     Average execution time for completed lines: 3.04 seconds. Estimated time for incomplete lines: 42.56 seconds.\n",
      "2024-10-30 17:03:36 -0500   20676 execution.bulk     INFO     Process name(SpawnProcess-6)-Process id(23180)-Line number(4) completed.\n",
      "2024-10-30 17:03:36 -0500   20676 execution.bulk     INFO     Process name(SpawnProcess-6)-Process id(23180)-Line number(5) start execution.\n",
      "2024-10-30 17:03:36 -0500   20676 execution.bulk     INFO     Finished 2 / 15 lines.\n",
      "2024-10-30 17:03:36 -0500   20676 execution.bulk     INFO     Average execution time for completed lines: 2.03 seconds. Estimated time for incomplete lines: 26.39 seconds.\n",
      "2024-10-30 17:03:38 -0500   20676 execution.bulk     INFO     Process name(SpawnProcess-6)-Process id(23180)-Line number(5) completed.\n",
      "2024-10-30 17:03:38 -0500   20676 execution.bulk     INFO     Process name(SpawnProcess-6)-Process id(23180)-Line number(6) start execution.\n",
      "2024-10-30 17:03:38 -0500   20676 execution.bulk     INFO     Finished 3 / 15 lines.\n",
      "2024-10-30 17:03:38 -0500   20676 execution.bulk     INFO     Average execution time for completed lines: 2.03 seconds. Estimated time for incomplete lines: 24.36 seconds.\n",
      "2024-10-30 17:03:39 -0500   20676 execution.bulk     INFO     Process name(SpawnProcess-6)-Process id(23180)-Line number(6) completed.\n",
      "2024-10-30 17:03:39 -0500   20676 execution.bulk     INFO     Process name(SpawnProcess-6)-Process id(23180)-Line number(7) start execution.\n",
      "2024-10-30 17:03:40 -0500   20676 execution.bulk     INFO     Finished 4 / 15 lines.\n",
      "2024-10-30 17:03:40 -0500   20676 execution.bulk     INFO     Average execution time for completed lines: 2.02 seconds. Estimated time for incomplete lines: 22.22 seconds.\n",
      "2024-10-30 17:03:41 -0500   20676 execution.bulk     INFO     Process name(SpawnProcess-6)-Process id(23180)-Line number(7) completed.\n",
      "2024-10-30 17:03:41 -0500   20676 execution.bulk     INFO     Process name(SpawnProcess-6)-Process id(23180)-Line number(8) start execution.\n",
      "2024-10-30 17:03:41 -0500   20676 execution.bulk     INFO     Finished 5 / 15 lines.\n",
      "2024-10-30 17:03:41 -0500   20676 execution.bulk     INFO     Average execution time for completed lines: 1.82 seconds. Estimated time for incomplete lines: 18.2 seconds.\n",
      "2024-10-30 17:03:42 -0500   20676 execution.bulk     INFO     Process name(SpawnProcess-6)-Process id(23180)-Line number(8) completed.\n",
      "2024-10-30 17:03:42 -0500   20676 execution.bulk     INFO     Process name(SpawnProcess-6)-Process id(23180)-Line number(9) start execution.\n",
      "2024-10-30 17:03:43 -0500   20676 execution.bulk     INFO     Finished 6 / 15 lines.\n",
      "2024-10-30 17:03:43 -0500   20676 execution.bulk     INFO     Average execution time for completed lines: 1.86 seconds. Estimated time for incomplete lines: 16.74 seconds.\n",
      "2024-10-30 17:03:44 -0500   20676 execution.bulk     INFO     Process name(SpawnProcess-6)-Process id(23180)-Line number(9) completed.\n",
      "2024-10-30 17:03:44 -0500   20676 execution.bulk     INFO     Process name(SpawnProcess-6)-Process id(23180)-Line number(10) start execution.\n",
      "2024-10-30 17:03:45 -0500   20676 execution.bulk     INFO     Process name(SpawnProcess-7)-Process id(2680)-Line number(0) completed.\n",
      "2024-10-30 17:03:45 -0500   20676 execution.bulk     INFO     Process name(SpawnProcess-7)-Process id(2680)-Line number(11) start execution.\n",
      "2024-10-30 17:03:45 -0500   20676 execution.bulk     INFO     Finished 8 / 15 lines.\n",
      "2024-10-30 17:03:45 -0500   20676 execution.bulk     INFO     Average execution time for completed lines: 1.64 seconds. Estimated time for incomplete lines: 11.48 seconds.\n",
      "2024-10-30 17:03:45 -0500   20676 execution.bulk     INFO     Process name(SpawnProcess-8)-Process id(6324)-Line number(2) completed.\n",
      "2024-10-30 17:03:45 -0500   20676 execution.bulk     INFO     Process name(SpawnProcess-8)-Process id(6324)-Line number(12) start execution.\n",
      "2024-10-30 17:03:46 -0500   20676 execution.bulk     INFO     Process name(SpawnProcess-9)-Process id(15232)-Line number(3) completed.\n",
      "2024-10-30 17:03:46 -0500   20676 execution.bulk     INFO     Process name(SpawnProcess-9)-Process id(15232)-Line number(13) start execution.\n",
      "2024-10-30 17:03:46 -0500   20676 execution.bulk     INFO     Process name(SpawnProcess-6)-Process id(23180)-Line number(10) completed.\n",
      "2024-10-30 17:03:46 -0500   20676 execution.bulk     INFO     Process name(SpawnProcess-6)-Process id(23180)-Line number(14) start execution.\n",
      "2024-10-30 17:03:46 -0500   20676 execution.bulk     INFO     Finished 11 / 15 lines.\n",
      "2024-10-30 17:03:46 -0500   20676 execution.bulk     INFO     Average execution time for completed lines: 1.29 seconds. Estimated time for incomplete lines: 5.16 seconds.\n",
      "2024-10-30 17:03:46 -0500   20676 execution.bulk     INFO     Process name(SpawnProcess-7)-Process id(2680)-Line number(11) completed.\n",
      "2024-10-30 17:03:47 -0500   20676 execution.bulk     INFO     Process name(SpawnProcess-8)-Process id(6324)-Line number(12) completed.\n",
      "2024-10-30 17:03:47 -0500   20676 execution.bulk     INFO     Finished 13 / 15 lines.\n",
      "2024-10-30 17:03:47 -0500   20676 execution.bulk     INFO     Average execution time for completed lines: 1.17 seconds. Estimated time for incomplete lines: 2.34 seconds.\n",
      "2024-10-30 17:03:48 -0500   20676 execution.bulk     INFO     Process name(SpawnProcess-9)-Process id(15232)-Line number(13) completed.\n",
      "2024-10-30 17:03:48 -0500   20676 execution.bulk     INFO     Process name(SpawnProcess-6)-Process id(23180)-Line number(14) completed.\n",
      "2024-10-30 17:03:48 -0500   20676 execution.bulk     INFO     Finished 15 / 15 lines.\n",
      "2024-10-30 17:03:48 -0500   20676 execution.bulk     INFO     Average execution time for completed lines: 1.08 seconds. Estimated time for incomplete lines: 0.0 seconds.\n",
      "2024-10-30 17:03:48 -0500   20676 execution.bulk     INFO     The thread monitoring the process [2680-SpawnProcess-7] will be terminated.\n",
      "2024-10-30 17:03:48 -0500   20676 execution.bulk     INFO     The thread monitoring the process [15232-SpawnProcess-9] will be terminated.\n",
      "2024-10-30 17:03:48 -0500   20676 execution.bulk     INFO     The thread monitoring the process [23180-SpawnProcess-6] will be terminated.\n",
      "2024-10-30 17:03:48 -0500   20676 execution.bulk     INFO     The thread monitoring the process [6324-SpawnProcess-8] will be terminated.\n",
      "2024-10-30 17:03:48 -0500    2680 execution.bulk     INFO     The process [2680] has received a terminate signal.\n",
      "2024-10-30 17:03:48 -0500   15232 execution.bulk     INFO     The process [15232] has received a terminate signal.\n",
      "2024-10-30 17:03:48 -0500   23180 execution.bulk     INFO     The process [23180] has received a terminate signal.\n",
      "2024-10-30 17:03:48 -0500    6324 execution.bulk     INFO     The process [6324] has received a terminate signal.\n",
      "2024-10-30 17:03:49 -0500   20676 execution.bulk     INFO     Process 2680 terminated.\n",
      "2024-10-30 17:03:49 -0500   20676 execution.bulk     INFO     Process 6324 terminated.\n",
      "2024-10-30 17:03:49 -0500   20676 execution.bulk     INFO     Process 15232 terminated.\n",
      "2024-10-30 17:03:49 -0500   20676 execution.bulk     INFO     Process 23180 terminated.\n",
      "======= Run Summary =======\n",
      "\n",
      "Run name: \"promptflow_evals_evaluators_coherence_coherence_asynccoherenceevaluator_col9o025_20241030_170321_813073\"\n",
      "Run status: \"Completed\"\n",
      "Start time: \"2024-10-30 17:03:21.803563-05:00\"\n",
      "Duration: \"0:00:28.369987\"\n",
      "Output path: \"C:\\Users\\b44082\\.promptflow\\.runs\\promptflow_evals_evaluators_coherence_coherence_asynccoherenceevaluator_col9o025_20241030_170321_813073\"\n",
      "\n"
     ]
    },
    {
     "data": {
      "text/html": [
       "<div>\n",
       "<style scoped>\n",
       "    .dataframe tbody tr th:only-of-type {\n",
       "        vertical-align: middle;\n",
       "    }\n",
       "\n",
       "    .dataframe tbody tr th {\n",
       "        vertical-align: top;\n",
       "    }\n",
       "\n",
       "    .dataframe thead th {\n",
       "        text-align: right;\n",
       "    }\n",
       "</style>\n",
       "<table border=\"1\" class=\"dataframe\">\n",
       "  <thead>\n",
       "    <tr style=\"text-align: right;\">\n",
       "      <th></th>\n",
       "      <th>inputs.question</th>\n",
       "      <th>inputs.answer</th>\n",
       "      <th>outputs.coherence.gpt_coherence</th>\n",
       "    </tr>\n",
       "  </thead>\n",
       "  <tbody>\n",
       "    <tr>\n",
       "      <th>0</th>\n",
       "      <td>Hola. Deseo información acerca de las tarjetas...</td>\n",
       "      <td>¡Hola! Soy tu asistente de préstamos de Interb...</td>\n",
       "      <td>3</td>\n",
       "    </tr>\n",
       "    <tr>\n",
       "      <th>1</th>\n",
       "      <td>Si</td>\n",
       "      <td>¡Genial! Para empezar, por favor, me podrías p...</td>\n",
       "      <td>1</td>\n",
       "    </tr>\n",
       "    <tr>\n",
       "      <th>2</th>\n",
       "      <td>Hola deseo información sobre tarjetas de crédito</td>\n",
       "      <td>Entiendo que estás interesado en tarjetas de c...</td>\n",
       "      <td>5</td>\n",
       "    </tr>\n",
       "    <tr>\n",
       "      <th>3</th>\n",
       "      <td>Continuar con las pregyntas</td>\n",
       "      <td>Continuar con las preguntas</td>\n",
       "      <td>1</td>\n",
       "    </tr>\n",
       "    <tr>\n",
       "      <th>4</th>\n",
       "      <td>¡Perfecto! Empecemos con la primera pregunta:\\...</td>\n",
       "      <td>¡Perfecto! Comencemos con la primera pregunta....</td>\n",
       "      <td>1</td>\n",
       "    </tr>\n",
       "    <tr>\n",
       "      <th>5</th>\n",
       "      <td>26</td>\n",
       "      <td>¡Gracias! Tienes 26 años. \\n\\nAhora vamos con ...</td>\n",
       "      <td>1</td>\n",
       "    </tr>\n",
       "    <tr>\n",
       "      <th>6</th>\n",
       "      <td>Maestría</td>\n",
       "      <td>¡Excelente! Has llegado hasta el nivel de maes...</td>\n",
       "      <td>2</td>\n",
       "    </tr>\n",
       "    <tr>\n",
       "      <th>7</th>\n",
       "      <td>Dos</td>\n",
       "      <td>¡Muy bien! Tienes dos títulos profesionales. \\...</td>\n",
       "      <td>1</td>\n",
       "    </tr>\n",
       "    <tr>\n",
       "      <th>8</th>\n",
       "      <td>2023</td>\n",
       "      <td>¡Perfecto! Terminaste tu primera carrera en 20...</td>\n",
       "      <td>2</td>\n",
       "    </tr>\n",
       "    <tr>\n",
       "      <th>9</th>\n",
       "      <td>Mixta</td>\n",
       "      <td>¡Gracias por compartirlo! Tienes una situación...</td>\n",
       "      <td>1</td>\n",
       "    </tr>\n",
       "    <tr>\n",
       "      <th>10</th>\n",
       "      <td>Lima</td>\n",
       "      <td>¡Gracias! Resides en Lima. \\n\\nPasemos a la sé...</td>\n",
       "      <td>1</td>\n",
       "    </tr>\n",
       "    <tr>\n",
       "      <th>11</th>\n",
       "      <td>Lima, breña</td>\n",
       "      <td>Entiendo que resides en Breña, Lima. Sin embar...</td>\n",
       "      <td>4</td>\n",
       "    </tr>\n",
       "    <tr>\n",
       "      <th>12</th>\n",
       "      <td>No</td>\n",
       "      <td>¡Gracias por la aclaración! No tienes propieda...</td>\n",
       "      <td>1</td>\n",
       "    </tr>\n",
       "    <tr>\n",
       "      <th>13</th>\n",
       "      <td>No</td>\n",
       "      <td>¡Gracias! No tienes vehículos a tu nombre.\\n\\n...</td>\n",
       "      <td>1</td>\n",
       "    </tr>\n",
       "    <tr>\n",
       "      <th>14</th>\n",
       "      <td>2800</td>\n",
       "      <td>¡Gracias! Tu ingreso promedio durante los últi...</td>\n",
       "      <td>4</td>\n",
       "    </tr>\n",
       "  </tbody>\n",
       "</table>\n",
       "</div>"
      ],
      "text/plain": [
       "                                      inputs.question  \\\n",
       "0   Hola. Deseo información acerca de las tarjetas...   \n",
       "1                                                  Si   \n",
       "2   Hola deseo información sobre tarjetas de crédito    \n",
       "3                         Continuar con las pregyntas   \n",
       "4   ¡Perfecto! Empecemos con la primera pregunta:\\...   \n",
       "5                                                  26   \n",
       "6                                           Maestría    \n",
       "7                                                 Dos   \n",
       "8                                                2023   \n",
       "9                                               Mixta   \n",
       "10                                               Lima   \n",
       "11                                        Lima, breña   \n",
       "12                                                 No   \n",
       "13                                                 No   \n",
       "14                                               2800   \n",
       "\n",
       "                                        inputs.answer  \\\n",
       "0   ¡Hola! Soy tu asistente de préstamos de Interb...   \n",
       "1   ¡Genial! Para empezar, por favor, me podrías p...   \n",
       "2   Entiendo que estás interesado en tarjetas de c...   \n",
       "3                         Continuar con las preguntas   \n",
       "4   ¡Perfecto! Comencemos con la primera pregunta....   \n",
       "5   ¡Gracias! Tienes 26 años. \\n\\nAhora vamos con ...   \n",
       "6   ¡Excelente! Has llegado hasta el nivel de maes...   \n",
       "7   ¡Muy bien! Tienes dos títulos profesionales. \\...   \n",
       "8   ¡Perfecto! Terminaste tu primera carrera en 20...   \n",
       "9   ¡Gracias por compartirlo! Tienes una situación...   \n",
       "10  ¡Gracias! Resides en Lima. \\n\\nPasemos a la sé...   \n",
       "11  Entiendo que resides en Breña, Lima. Sin embar...   \n",
       "12  ¡Gracias por la aclaración! No tienes propieda...   \n",
       "13  ¡Gracias! No tienes vehículos a tu nombre.\\n\\n...   \n",
       "14  ¡Gracias! Tu ingreso promedio durante los últi...   \n",
       "\n",
       "    outputs.coherence.gpt_coherence  \n",
       "0                                 3  \n",
       "1                                 1  \n",
       "2                                 5  \n",
       "3                                 1  \n",
       "4                                 1  \n",
       "5                                 1  \n",
       "6                                 2  \n",
       "7                                 1  \n",
       "8                                 2  \n",
       "9                                 1  \n",
       "10                                1  \n",
       "11                                4  \n",
       "12                                1  \n",
       "13                                1  \n",
       "14                                4  "
      ]
     },
     "metadata": {},
     "output_type": "display_data"
    }
   ],
   "source": [
    "result = evaluate(\n",
    "    data=\"conversation.jsonl\",\n",
    "    evaluators={\n",
    "        #\"relevance\": relevance_eval,\n",
    "        #\"groundedness\": groundedness_eval,\n",
    "        \"coherence\": coherence_eval,\n",
    "        #\"similarity\": similarity_eval\n",
    "    },\n",
    "    output_path=\"evals_results.json\"\n",
    ")\n",
    "\n",
    "df_rows = pd.DataFrame(result['rows'])\n",
    "display(df_rows)"
   ]
  },
  {
   "cell_type": "code",
   "execution_count": null,
   "metadata": {},
   "outputs": [],
   "source": []
  }
 ],
 "metadata": {
  "kernelspec": {
   "display_name": "asistenteIA",
   "language": "python",
   "name": "python3"
  },
  "language_info": {
   "codemirror_mode": {
    "name": "ipython",
    "version": 3
   },
   "file_extension": ".py",
   "mimetype": "text/x-python",
   "name": "python",
   "nbconvert_exporter": "python",
   "pygments_lexer": "ipython3",
   "version": "3.11.10"
  }
 },
 "nbformat": 4,
 "nbformat_minor": 2
}
